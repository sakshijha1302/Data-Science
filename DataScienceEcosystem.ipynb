{
 "cells": [
  {
   "cell_type": "markdown",
   "id": "78a16637-4041-4065-b3f6-4aa44d285162",
   "metadata": {},
   "source": [
    "<h1>Data Science Tools and Ecosystem</h1>"
   ]
  },
  {
   "cell_type": "markdown",
   "id": "7719efcb-fddc-496e-8555-92c6d2e3066f",
   "metadata": {
    "tags": []
   },
   "source": [
    "In this notebook, Data Science Tools and Ecosystem are summarized.For example major libraries used in data science, tools used in Data Science and languages used in Data Science are summarized."
   ]
  },
  {
   "cell_type": "markdown",
   "id": "c673e8ca-354f-4741-910e-941d2aade7de",
   "metadata": {},
   "source": [
    "Some of the popular languages that Data Scientists use are:\n",
    "<ol>\n",
    "  <li>Python</li>\n",
    "  <li>R</li>\n",
    "  <li>Java</li>\n",
    "  <li>Julia</li>\n",
    "</ol>"
   ]
  },
  {
   "cell_type": "markdown",
   "id": "0923741d-c2a2-465b-8e96-9d2c23dc5f65",
   "metadata": {},
   "source": [
    "Some of the commonly used libraries used by Data Scientists include:\n",
    "<ol>\n",
    "  <li>TensorFlow</li>\n",
    "  <li>NumPy</li>\n",
    "  <li>SciPy</li>\n",
    "  <li>Pandas</li>\n",
    "  <li>Matplotlib </li>\n",
    "  <li>SciKit-Learn</li>\n",
    "  <li>Keras</li>\n",
    "</ol>"
   ]
  },
  {
   "cell_type": "markdown",
   "id": "3b25864c-00ee-4a31-8edb-7d67570dfda7",
   "metadata": {},
   "source": [
    "<table>\n",
    "    <tr>\n",
    "        <td>Data Science Tools</td>\n",
    "    </tr>\n",
    "    <tr>\n",
    "        <td>RapidMiner</td>\n",
    "    </tr>\n",
    "    <tr>\n",
    "        <td>Apache Hadoop</td>\n",
    "    </tr>\n",
    "    <tr>\n",
    "        <td>Weka</td>\n",
    "    </tr>\n",
    "</table>"
   ]
  },
  {
   "cell_type": "markdown",
   "id": "ab0fd654-100d-4262-8738-8898661f0585",
   "metadata": {},
   "source": [
    "<h3>Below are a few examples of evaluating arithmetic expressions in Python</h3>"
   ]
  },
  {
   "cell_type": "code",
   "execution_count": 2,
   "id": "3949a15e-1969-4113-a341-38626dd63e0c",
   "metadata": {
    "tags": []
   },
   "outputs": [
    {
     "data": {
      "text/plain": [
       "17"
      ]
     },
     "execution_count": 2,
     "metadata": {},
     "output_type": "execute_result"
    }
   ],
   "source": [
    "(3*4)+5\n",
    "# This a simple arithmetic expression to mutiply then add integers"
   ]
  },
  {
   "cell_type": "code",
   "execution_count": 6,
   "id": "3240ce9e-73c7-4541-bbb1-69061f25169c",
   "metadata": {
    "tags": []
   },
   "outputs": [
    {
     "name": "stdout",
     "output_type": "stream",
     "text": [
      "3.3333333333333335\n"
     ]
    }
   ],
   "source": [
    "min = 200\n",
    "hours = min/60\n",
    "# This will convert 200 minutes to hours by diving by 60\n",
    "print(hours)"
   ]
  },
  {
   "cell_type": "markdown",
   "id": "c699a37b-0c10-4ad9-a8ba-da824f371091",
   "metadata": {},
   "source": [
    "**Objectives:**\n",
    "<ul>\n",
    "    <li>Popular Data Science Languages</li>\n",
    "    <li>Popular Data Science Libraries</li>\n",
    "    <li>Popular Data Science Tools</li>\n",
    "</ul>"
   ]
  },
  {
   "cell_type": "markdown",
   "id": "fed534a9-9e33-402d-ac33-dc1bfe494c45",
   "metadata": {
    "tags": []
   },
   "source": [
    "<h2>Author</h2>\n",
    "Sakshi Jha"
   ]
  }
 ],
 "metadata": {
  "kernelspec": {
   "display_name": "Python",
   "language": "python",
   "name": "conda-env-python-py"
  },
  "language_info": {
   "codemirror_mode": {
    "name": "ipython",
    "version": 3
   },
   "file_extension": ".py",
   "mimetype": "text/x-python",
   "name": "python",
   "nbconvert_exporter": "python",
   "pygments_lexer": "ipython3",
   "version": "3.7.12"
  }
 },
 "nbformat": 4,
 "nbformat_minor": 5
}
